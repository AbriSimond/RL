{
 "cells": [
  {
   "cell_type": "code",
   "execution_count": 1,
   "metadata": {
    "collapsed": false
   },
   "outputs": [
    {
     "name": "stderr",
     "output_type": "stream",
     "text": [
      "/usr/local/lib/python2.7/dist-packages/matplotlib/font_manager.py:273: UserWarning: Matplotlib is building the font cache using fc-list. This may take a moment.\n",
      "  warnings.warn('Matplotlib is building the font cache using fc-list. This may take a moment.')\n",
      "[2016-06-09 13:25:32,675] Making new env: SpaceInvaders-v0\n"
     ]
    },
    {
     "data": {
      "text/plain": [
       "<matplotlib.image.AxesImage at 0x7faa9c268490>"
      ]
     },
     "execution_count": 1,
     "metadata": {},
     "output_type": "execute_result"
    },
    {
     "data": {
      "image/png": "[encoded data removed]",
      "text/plain": [
       "<matplotlib.figure.Figure at 0x7faa9e855790>"
      ]
     },
     "metadata": {},
     "output_type": "display_data"
    }
   ],
   "source": [
    "import matplotlib.pyplot as plt\n",
    "import numpy as np\n",
    "%matplotlib inline\n",
    "\n",
    "GAME_TITLE = 'SpaceInvaders-v0'\n",
    "import gym\n",
    "atari = gym.make(GAME_TITLE)\n",
    "atari.reset()\n",
    "plt.imshow(atari.render('rgb_array'))"
   ]
  },
  {
   "cell_type": "code",
   "execution_count": 43,
   "metadata": {
    "collapsed": false
   },
   "outputs": [
    {
     "name": "stderr",
     "output_type": "stream",
     "text": [
      "[2016-06-08 11:22:10,938] Making new env: FrozenLake-v0\n"
     ]
    },
    {
     "data": {
      "text/plain": [
       "0"
      ]
     },
     "execution_count": 43,
     "metadata": {},
     "output_type": "execute_result"
    }
   ],
   "source": [
    "import gym\n",
    "import matplotlib.pyplot as plt\n",
    "import numpy as np\n",
    "%matplotlib inline\n",
    "env = gym.make('FrozenLake-v0')\n",
    "env.reset()"
   ]
  },
  {
   "cell_type": "markdown",
   "metadata": {},
   "source": [
    "## Deterministic human model"
   ]
  },
  {
   "cell_type": "code",
   "execution_count": 44,
   "metadata": {
    "collapsed": false
   },
   "outputs": [],
   "source": [
    "decision = {\n",
    "    0 : 'down',\n",
    "    1 : 'right',\n",
    "    2 : 'down',\n",
    "    3 : 'down', # end of first row\n",
    "    4 : 'down', \n",
    "    5 : 'down',\n",
    "    6 : 'down',\n",
    "    7 : 'down', # end of second row\n",
    "    8 : 'right',\n",
    "    9 : 'right',\n",
    "    10 : 'down',\n",
    "    11 : 'down', #end of third row\n",
    "    12 : 'right',\n",
    "    13 : 'right',\n",
    "    14 : 'right',\n",
    "    15 : 'right'\n",
    "}\n",
    "\n",
    "\n",
    "action_table = {\n",
    "    'left' : 0,\n",
    "    'down' : 1,\n",
    "    'right' : 2,\n",
    "    'up' : 3\n",
    "}\n",
    "\n",
    "def make_action(obs):\n",
    "    return action_table[decision[obs]]\n",
    "\n",
    "#SFFF\n",
    "#FHFH\n",
    "#FFFH\n",
    "#HFFG"
   ]
  },
  {
   "cell_type": "code",
   "execution_count": 45,
   "metadata": {
    "collapsed": false
   },
   "outputs": [
    {
     "name": "stderr",
     "output_type": "stream",
     "text": [
      "[2016-06-08 11:22:17,638] Making new env: FrozenLake-v0\n"
     ]
    },
    {
     "data": {
      "text/plain": [
       "0.037819999999999999"
      ]
     },
     "execution_count": 45,
     "metadata": {},
     "output_type": "execute_result"
    }
   ],
   "source": [
    "# import gym\n",
    "env = gym.make('FrozenLake-v0')\n",
    "env.reset()\n",
    "\n",
    "R = []\n",
    "\n",
    "for i_episode in range(100000):\n",
    "    observation = env.reset()\n",
    "    #env.render()\n",
    "    for t in range(100):\n",
    "        #print '-------'\n",
    "        action = make_action(observation)\n",
    "        observation, reward, done, info = env.step(action)\n",
    "        #print('observation: ' + str(observation))\n",
    "        #print 'action: ' + str(action)\n",
    "        #env.render()\n",
    "\n",
    "        if done:\n",
    "            R.append(reward)\n",
    "            break\n",
    "            \n",
    "np.mean(R)"
   ]
  },
  {
   "cell_type": "markdown",
   "metadata": {},
   "source": [
    "### Simple probabilistic model"
   ]
  },
  {
   "cell_type": "code",
   "execution_count": 46,
   "metadata": {
    "collapsed": false
   },
   "outputs": [],
   "source": [
    "# Policy takes in a state and outputs the action probability vectors\n",
    "policy = {}\n",
    "initprob = np.array([0.25,0.25,0.25,0.25])\n",
    "for i in range(16):\n",
    "    policy[i] = initprob\n",
    "    \n",
    "def make_decision(obs, policy):\n",
    "    return np.random.choice(4, p = policy[obs] / sum(policy[obs]))"
   ]
  },
  {
   "cell_type": "code",
   "execution_count": 47,
   "metadata": {
    "collapsed": false
   },
   "outputs": [
    {
     "name": "stderr",
     "output_type": "stream",
     "text": [
      "[2016-06-08 11:22:28,919] Making new env: FrozenLake-v0\n",
      " 85%|████████▌ | 85379/100000 [00:41<00:05, 2659.88it/s]\n"
     ]
    },
    {
     "ename": "KeyboardInterrupt",
     "evalue": "",
     "output_type": "error",
     "traceback": [
      "\u001b[1;31m---------------------------------------------------------------------------\u001b[0m",
      "\u001b[1;31mKeyboardInterrupt\u001b[0m                         Traceback (most recent call last)",
      "\u001b[1;32m<ipython-input-47-0db600dc4da2>\u001b[0m in \u001b[0;36m<module>\u001b[1;34m()\u001b[0m\n\u001b[0;32m     14\u001b[0m         \u001b[0mobservation\u001b[0m\u001b[1;33m,\u001b[0m \u001b[0mreward\u001b[0m\u001b[1;33m,\u001b[0m \u001b[0mdone\u001b[0m\u001b[1;33m,\u001b[0m \u001b[0minfo\u001b[0m \u001b[1;33m=\u001b[0m \u001b[0menv\u001b[0m\u001b[1;33m.\u001b[0m\u001b[0mstep\u001b[0m\u001b[1;33m(\u001b[0m\u001b[0maction\u001b[0m\u001b[1;33m)\u001b[0m\u001b[1;33m\u001b[0m\u001b[0m\n\u001b[0;32m     15\u001b[0m         \u001b[0mO\u001b[0m\u001b[1;33m.\u001b[0m\u001b[0mappend\u001b[0m\u001b[1;33m(\u001b[0m\u001b[0mobservation\u001b[0m\u001b[1;33m)\u001b[0m\u001b[1;33m\u001b[0m\u001b[0m\n\u001b[1;32m---> 16\u001b[1;33m         \u001b[0mA\u001b[0m\u001b[1;33m.\u001b[0m\u001b[0mappend\u001b[0m\u001b[1;33m(\u001b[0m\u001b[0maction\u001b[0m\u001b[1;33m)\u001b[0m\u001b[1;33m\u001b[0m\u001b[0m\n\u001b[0m\u001b[0;32m     17\u001b[0m \u001b[1;33m\u001b[0m\u001b[0m\n\u001b[0;32m     18\u001b[0m         \u001b[1;32mif\u001b[0m \u001b[0mdone\u001b[0m\u001b[1;33m:\u001b[0m\u001b[1;33m\u001b[0m\u001b[0m\n",
      "\u001b[1;31mKeyboardInterrupt\u001b[0m: "
     ]
    }
   ],
   "source": [
    "# import gym\n",
    "env = gym.make('FrozenLake-v0')\n",
    "env.reset()\n",
    "from tqdm import tqdm\n",
    "for i_episode in tqdm(range(100000)):\n",
    "    observation = env.reset()\n",
    "    #env.render()\n",
    "    \n",
    "    O = []\n",
    "    A = []\n",
    "    for t in range(100):\n",
    "        #print '-------'\n",
    "        action = np.random.choice(4, p = policy[observation] / sum(policy[observation]))#make_decision(observation, policy)\n",
    "        observation, reward, done, info = env.step(action)\n",
    "        O.append(observation)\n",
    "        A.append(action)\n",
    "\n",
    "        if done:\n",
    "            #print policy\n",
    "            for a,o, tt in zip(A,O,range(t)):\n",
    "                policy[o][a] = policy[o][a]*0.995 + 0.005*np.minimum(1,np.maximum(reward, 0))\n",
    "                policy[o] = policy[o] / sum(policy[o])\n",
    "\n",
    "            break"
   ]
  },
  {
   "cell_type": "code",
   "execution_count": 41,
   "metadata": {
    "collapsed": false
   },
   "outputs": [
    {
     "name": "stdout",
     "output_type": "stream",
     "text": [
      "{'down': 1, 'right': 2, 'up': 3, 'left': 0}\n",
      "99999\n",
      "7\n",
      "[ 0.255025    0.23774751  0.240149    0.25      ]\n"
     ]
    }
   ],
   "source": [
    "print action_table\n",
    "print i_episode\n",
    "print observation\n",
    "#print policy\n",
    "print policy[observation] #/ sum(policy[observation])\n",
    "#SFFF\n",
    "#FHFH\n",
    "#FFFH\n",
    "#HFFG"
   ]
  },
  {
   "cell_type": "code",
   "execution_count": 42,
   "metadata": {
    "collapsed": false
   },
   "outputs": [
    {
     "name": "stderr",
     "output_type": "stream",
     "text": [
      "[2016-06-07 23:19:44,742] Making new env: FrozenLake-v0\n",
      "100%|██████████| 50000/50000 [00:15<00:00, 3184.67it/s]\n"
     ]
    },
    {
     "data": {
      "text/plain": [
       "0.0094599999999999997"
      ]
     },
     "execution_count": 42,
     "metadata": {},
     "output_type": "execute_result"
    }
   ],
   "source": [
    "# import gym\n",
    "env = gym.make('FrozenLake-v0')\n",
    "env.reset()\n",
    "\n",
    "R = []\n",
    "\n",
    "for i_episode in tqdm(range(50000)):\n",
    "    observation = env.reset()\n",
    "    #env.render()\n",
    "    for t in range(100):\n",
    "        #print '-------'\n",
    "        action = np.random.choice(4, p = policy[observation] / sum(policy[observation]))#make_decision(observation, policy)\n",
    "        observation, reward, done, info = env.step(action)\n",
    "        #print('observation: ' + str(observation))\n",
    "        #print 'action: ' + str(action)\n",
    "        #env.render()\n",
    "\n",
    "        if done:\n",
    "            R.append(reward)\n",
    "            break\n",
    "            \n",
    "np.mean(R)"
   ]
  },
  {
   "cell_type": "code",
   "execution_count": null,
   "metadata": {
    "collapsed": true
   },
   "outputs": [],
   "source": [
    "# random walk gives 0.0138\n",
    "# 10'000 trains gives 0.0195\n",
    "# 100k trains gives 0.0129"
   ]
  }
 ],
 "metadata": {
  "kernelspec": {
   "display_name": "Python 2",
   "language": "python",
   "name": "python2"
  },
  "language_info": {
   "codemirror_mode": {
    "name": "ipython",
    "version": 2
   },
   "file_extension": ".py",
   "mimetype": "text/x-python",
   "name": "python",
   "nbconvert_exporter": "python",
   "pygments_lexer": "ipython2",
   "version": "2.7.6"
  }
 },
 "nbformat": 4,
 "nbformat_minor": 0
}
