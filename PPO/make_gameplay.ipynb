{
 "cells": [
  {
   "cell_type": "markdown",
   "metadata": {},
   "source": [
    "# Timing different ways of playing OpenAI Pong"
   ]
  },
  {
   "cell_type": "code",
   "execution_count": 1,
   "metadata": {},
   "outputs": [
    {
     "name": "stderr",
     "output_type": "stream",
     "text": [
      "[2017-08-29 19:57:00,698] Making new env: Pong-v0\n",
      "[2017-08-29 19:57:00,699] Making new env: Pong-v0\n",
      "[2017-08-29 19:57:59,885] Making new env: Pong-v0\n",
      "[2017-08-29 19:57:59,888] Making new env: Pong-v0\n",
      "[2017-08-29 19:59:09,741] Making new env: Pong-v0\n",
      "[2017-08-29 19:59:09,741] Making new env: Pong-v0\n",
      "[2017-08-29 20:00:07,892] Making new env: Pong-v0\n",
      "[2017-08-29 20:00:07,892] Making new env: Pong-v0\n",
      "[2017-08-29 20:00:54,878] Making new env: Pong-v0\n",
      "[2017-08-29 20:00:54,872] Making new env: Pong-v0\n",
      "[2017-08-29 20:01:47,160] Making new env: Pong-v0\n",
      "[2017-08-29 20:01:47,167] Making new env: Pong-v0\n",
      "[2017-08-29 20:02:48,706] Making new env: Pong-v0\n",
      "[2017-08-29 20:02:48,707] Making new env: Pong-v0\n",
      "[2017-08-29 20:03:45,553] Making new env: Pong-v0\n",
      "[2017-08-29 20:03:45,559] Making new env: Pong-v0\n"
     ]
    },
    {
     "name": "stdout",
     "output_type": "stream",
     "text": [
      "57.5 s ± 6.52 s per loop (mean ± std. dev. of 7 runs, 1 loop each)\n"
     ]
    }
   ],
   "source": [
    "import PlayGameFile\n",
    "games = PlayGameFile.PlayGym(\"Pong-v0\",workers=2,replays=12)\n",
    "games.agent = PlayGameFile.RandomAgent()\n",
    "%timeit result = games.play_multiple_games()"
   ]
  },
  {
   "cell_type": "code",
   "execution_count": 1,
   "metadata": {},
   "outputs": [
    {
     "name": "stderr",
     "output_type": "stream",
     "text": [
      "[2017-08-29 20:10:31,992] Making new env: Pong-v0\n",
      "[2017-08-29 20:10:31,992] Making new env: Pong-v0\n",
      "[2017-08-29 20:10:37,982] Making new env: Pong-v0\n",
      "[2017-08-29 20:10:37,983] Making new env: Pong-v0\n",
      "[2017-08-29 20:10:44,322] Making new env: Pong-v0\n",
      "[2017-08-29 20:10:44,319] Making new env: Pong-v0\n",
      "[2017-08-29 20:10:49,520] Making new env: Pong-v0\n",
      "[2017-08-29 20:10:49,517] Making new env: Pong-v0\n",
      "[2017-08-29 20:10:54,006] Making new env: Pong-v0\n",
      "[2017-08-29 20:10:54,006] Making new env: Pong-v0\n",
      "[2017-08-29 20:10:58,692] Making new env: Pong-v0\n",
      "[2017-08-29 20:10:58,696] Making new env: Pong-v0\n",
      "[2017-08-29 20:11:03,689] Making new env: Pong-v0\n",
      "[2017-08-29 20:11:03,689] Making new env: Pong-v0\n",
      "[2017-08-29 20:11:08,778] Making new env: Pong-v0\n",
      "[2017-08-29 20:11:08,782] Making new env: Pong-v0\n"
     ]
    },
    {
     "name": "stdout",
     "output_type": "stream",
     "text": [
      "5.07 s ± 556 ms per loop (mean ± std. dev. of 7 runs, 1 loop each)\n"
     ]
    }
   ],
   "source": [
    "# Returning None\n",
    "# The PlayGame.py was altered so that play_games() returned a None object\n",
    "# Essentially calculcates the time to execute the games in parallel.\n",
    "\n",
    "import PlayGame\n",
    "games = PlayGame.PlayGym(\"Pong-v0\",workers=2,replays=12)\n",
    "games.agent = PlayGame.RandomAgent()\n",
    "%timeit result = games.play_multiple_games()"
   ]
  },
  {
   "cell_type": "code",
   "execution_count": 1,
   "metadata": {},
   "outputs": [
    {
     "name": "stderr",
     "output_type": "stream",
     "text": [
      "[2017-08-29 20:11:24,270] Making new env: Pong-v0\n",
      "[2017-08-29 20:11:24,273] Making new env: Pong-v0\n",
      "[2017-08-29 20:11:41,100] Making new env: Pong-v0\n",
      "[2017-08-29 20:11:41,107] Making new env: Pong-v0\n",
      "[2017-08-29 20:11:51,965] Making new env: Pong-v0\n",
      "[2017-08-29 20:11:51,969] Making new env: Pong-v0\n",
      "[2017-08-29 20:12:03,611] Making new env: Pong-v0\n",
      "[2017-08-29 20:12:03,607] Making new env: Pong-v0\n",
      "[2017-08-29 20:12:16,634] Making new env: Pong-v0\n",
      "[2017-08-29 20:12:16,637] Making new env: Pong-v0\n",
      "[2017-08-29 20:12:29,513] Making new env: Pong-v0\n",
      "[2017-08-29 20:12:29,517] Making new env: Pong-v0\n",
      "[2017-08-29 20:12:44,970] Making new env: Pong-v0\n",
      "[2017-08-29 20:12:44,966] Making new env: Pong-v0\n",
      "[2017-08-29 20:12:58,453] Making new env: Pong-v0\n",
      "[2017-08-29 20:12:58,447] Making new env: Pong-v0\n"
     ]
    },
    {
     "name": "stdout",
     "output_type": "stream",
     "text": [
      "14.2 s ± 4.05 s per loop (mean ± std. dev. of 7 runs, 1 loop each)\n"
     ]
    }
   ],
   "source": [
    "# Returning data\n",
    "import PlayGame\n",
    "games = PlayGame.PlayGym(\"Pong-v0\",workers=2,replays=12)\n",
    "games.agent = PlayGame.RandomAgent()\n",
    "%timeit result = games.play_multiple_games()"
   ]
  },
  {
   "cell_type": "code",
   "execution_count": 2,
   "metadata": {},
   "outputs": [
    {
     "name": "stderr",
     "output_type": "stream",
     "text": [
      "[2017-08-29 20:15:34,134] Making new env: Pong-v0\n",
      "[2017-08-29 20:15:34,137] Making new env: Pong-v0\n",
      "[2017-08-29 20:15:34,143] Making new env: Pong-v0\n",
      "[2017-08-29 20:15:34,134] Making new env: Pong-v0\n",
      "[2017-08-29 20:15:45,780] Making new env: Pong-v0\n",
      "[2017-08-29 20:15:45,784] Making new env: Pong-v0\n",
      "[2017-08-29 20:15:45,789] Making new env: Pong-v0\n",
      "[2017-08-29 20:15:45,789] Making new env: Pong-v0\n",
      "[2017-08-29 20:16:00,137] Making new env: Pong-v0\n",
      "[2017-08-29 20:16:00,138] Making new env: Pong-v0\n",
      "[2017-08-29 20:16:00,133] Making new env: Pong-v0\n",
      "[2017-08-29 20:16:00,141] Making new env: Pong-v0\n",
      "[2017-08-29 20:16:11,597] Making new env: Pong-v0\n",
      "[2017-08-29 20:16:11,603] Making new env: Pong-v0\n",
      "[2017-08-29 20:16:11,607] Making new env: Pong-v0\n",
      "[2017-08-29 20:16:11,607] Making new env: Pong-v0\n",
      "[2017-08-29 20:16:25,597] Making new env: Pong-v0\n",
      "[2017-08-29 20:16:25,596] Making new env: Pong-v0\n",
      "[2017-08-29 20:16:25,601] Making new env: Pong-v0\n",
      "[2017-08-29 20:16:25,592] Making new env: Pong-v0\n",
      "[2017-08-29 20:16:38,351] Making new env: Pong-v0\n",
      "[2017-08-29 20:16:38,356] Making new env: Pong-v0\n",
      "[2017-08-29 20:16:38,356] Making new env: Pong-v0\n",
      "[2017-08-29 20:16:38,361] Making new env: Pong-v0\n",
      "[2017-08-29 20:16:52,911] Making new env: Pong-v0\n",
      "[2017-08-29 20:16:52,916] Making new env: Pong-v0\n",
      "[2017-08-29 20:16:52,907] Making new env: Pong-v0\n",
      "[2017-08-29 20:16:52,911] Making new env: Pong-v0\n",
      "[2017-08-29 20:17:03,950] Making new env: Pong-v0\n",
      "[2017-08-29 20:17:03,963] Making new env: Pong-v0\n",
      "[2017-08-29 20:17:03,956] Making new env: Pong-v0\n",
      "[2017-08-29 20:17:03,963] Making new env: Pong-v0\n"
     ]
    },
    {
     "name": "stdout",
     "output_type": "stream",
     "text": [
      "12.3 s ± 1.54 s per loop (mean ± std. dev. of 7 runs, 1 loop each)\n"
     ]
    }
   ],
   "source": [
    "# Returning data\n",
    "import PlayGame\n",
    "games = PlayGame.PlayGym(\"Pong-v0\",workers=4,replays=12)\n",
    "games.agent = PlayGame.RandomAgent()\n",
    "%timeit result = games.play_multiple_games()"
   ]
  },
  {
   "cell_type": "code",
   "execution_count": 3,
   "metadata": {},
   "outputs": [
    {
     "name": "stderr",
     "output_type": "stream",
     "text": [
      "[2017-08-29 20:17:52,789] Making new env: Pong-v0\n"
     ]
    },
    {
     "name": "stdout",
     "output_type": "stream",
     "text": [
      "8.18 s ± 285 ms per loop (mean ± std. dev. of 7 runs, 1 loop each)\n"
     ]
    }
   ],
   "source": [
    "# Running single threaded\n",
    "import gym\n",
    "env = gym.make(\"Pong-v0\")\n",
    "%timeit result = [games.play_game(env=env) for i in range(12)]"
   ]
  }
 ],
 "metadata": {
  "kernelspec": {
   "display_name": "Python 3",
   "language": "python",
   "name": "python3"
  },
  "language_info": {
   "codemirror_mode": {
    "name": "ipython",
    "version": 3
   },
   "file_extension": ".py",
   "mimetype": "text/x-python",
   "name": "python",
   "nbconvert_exporter": "python",
   "pygments_lexer": "ipython3",
   "version": "3.5.2"
  }
 },
 "nbformat": 4,
 "nbformat_minor": 2
}
