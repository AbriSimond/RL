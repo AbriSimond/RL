{
 "cells": [
  {
   "cell_type": "code",
   "execution_count": null,
   "metadata": {
    "collapsed": false
   },
   "outputs": [],
   "source": []
  },
  {
   "cell_type": "code",
   "execution_count": 1,
   "metadata": {
    "collapsed": false
   },
   "outputs": [],
   "source": [
    "### NUMPY MODEL FUNCTION SPECIFICATION\n",
    "\n",
    "class numpy_model:\n",
    "    def __init__(self):\n",
    "        self.Q = np.zeros((env.observation_space.n, env.action_space.n))\n",
    "        self.action_table = {\n",
    "            'left' : 0,\n",
    "            'down' : 1,\n",
    "            'right' : 2,\n",
    "            'up' : 3\n",
    "        }\n",
    "        self.inv_action_table = {v: k for k, v in self.action_table.items()}\n",
    "        \n",
    "        # Learning paramters\n",
    "        self.learning_rate = 0.1\n",
    "        self.r_prob = 0.8\n",
    "        self.r_prob_decay = 0.9995\n",
    "\n",
    "    def epsilon_greedy_action(self,state):\n",
    "        if np.random.rand() < self.r_prob:\n",
    "            action = env.action_space.sample()\n",
    "        else:\n",
    "            action = np.argmax(self.Q[state, :])\n",
    "        return action\n",
    "    \n",
    "    def epsilon_decay(self):\n",
    "        self.r_prob *= self.r_prob_decay\n",
    "        self.r_prob = np.maximum(0.06,self.r_prob) # Never let random probability be less than 5%\n",
    "    \n",
    "    def update_parameters(self,newstate, oldstate, action, reward):\n",
    "        self.Q[oldstate, action] += self.learning_rate * (reward + np.max(self.Q[newstate, :]) - self.Q[oldstate, action])\n",
    "        \n",
    "    def get_optimal_policy(self):\n",
    "        optimal = [ self.inv_action_table[v] for v in self.Q.argmax(1)]\n",
    "        return np.reshape(optimal,(8, 8))"
   ]
  },
  {
   "cell_type": "code",
   "execution_count": null,
   "metadata": {
    "collapsed": false,
    "scrolled": false
   },
   "outputs": [
    {
     "name": "stdout",
     "output_type": "stream",
     "text": [
      "step: 150000 \t r_prob:0.38\t run_avg:0.054\n",
      "step: 200000 \t r_prob:0.29\t run_avg:0.139\n",
      "step: 250000 \t r_prob:0.23\t run_avg:0.281\n",
      "step: 300000 \t r_prob:0.18\t run_avg:0.376\n",
      "step: 350000 \t r_prob:0.14\t run_avg:0.481\n",
      "step: 400000 \t r_prob:0.11\t run_avg:0.594\n",
      "step: 450000 \t r_prob:0.08\t run_avg:0.676\n",
      "[['up' 'right' 'right' 'right' 'right' 'right' 'right' 'right']\n",
      " ['up' 'up' 'up' 'up' 'up' 'up' 'up' 'right']\n",
      " ['left' 'up' 'left' 'left' 'right' 'up' 'right' 'right']\n",
      " ['left' 'up' 'up' 'down' 'left' 'left' 'right' 'right']\n",
      " ['left' 'up' 'up' 'left' 'right' 'down' 'up' 'right']\n",
      " ['left' 'left' 'left' 'down' 'up' 'left' 'left' 'right']\n",
      " ['left' 'left' 'right' 'up' 'left' 'right' 'left' 'right']\n",
      " ['left' 'down' 'left' 'left' 'down' 'right' 'down' 'left']]\n"
     ]
    }
   ],
   "source": [
    "import gym\n",
    "import numpy as np\n",
    "\n",
    "env = gym.make('FrozenLake8x8-v0') # initialize environment\n",
    "model = numpy_model() # initialize numpy model\n",
    "\n",
    "# Probability of random action\n",
    "model.r_prob_decay = 0.999995\n",
    "model.learning_rate = 0.03\n",
    "\n",
    "\n",
    "# Logging variables\n",
    "visits = np.zeros([env.observation_space.n])\n",
    "\n",
    "l = 0.001 # running average var\n",
    "run_avg = 0.0 # running average initialize\n",
    "num_episodes = 100000 # Total number of games\n",
    "old_optimal = model.get_optimal_policy() # Initial optimal strategy\n",
    "\n",
    "for n in xrange(num_episodes):\n",
    "    newstate = env.reset()\n",
    "    done = False\n",
    "\n",
    "    for ep in xrange(1000):\n",
    "        # Current state\n",
    "        oldstate = newstate\n",
    "        \n",
    "        # Perform epsilon-greedy action:\n",
    "        action = model.epsilon_greedy_action(oldstate)\n",
    "\n",
    "        # Take action and observe state and reward\n",
    "        newstate, reward, done, info = env.step(action)\n",
    "        visits[newstate] += 1\n",
    "\n",
    "        # Reward modifications:\n",
    "        if (done is True and reward == 0):\n",
    "            reward = -0.1\n",
    "        reward -= 0.0005 # cost of life\n",
    "        \n",
    "        # Update parameters\n",
    "        model.update_parameters(newstate, oldstate, action, reward)\n",
    "        if done:\n",
    "            break\n",
    "\n",
    "    # Decay epsilon\n",
    "    model.epsilon_decay()\n",
    "    run_avg = (1-l)*run_avg + l*reward\n",
    "\n",
    "    if n % int(num_episodes/10) == 0: \n",
    "        print 'step: ' + str(n) + ' \\t r_prob:' + str(np.round(model.r_prob,2)) + '\\t run_avg:' + str(np.round(run_avg,3))\n",
    "        new_optimal = model.get_optimal_policy()\n",
    "        if (old_optimal == new_optimal).all():\n",
    "            print 'Optimal strategy not changed.'\n",
    "            print new_optimal\n",
    "            #break\n",
    "        old_optimal = new_optimal\n",
    "\n",
    "env.monitor.close()\n",
    "\n",
    "print model.get_optimal_policy()"
   ]
  },
  {
   "cell_type": "markdown",
   "metadata": {},
   "source": [
    "[['right' 'up' 'right' 'right' 'right' 'right' 'right' 'right']\n",
    " ['up' 'up' 'up' 'up' 'up' 'up' 'right' 'right']\n",
    " ['up' 'up' 'left' 'left' 'right' 'up' 'right' 'right']\n",
    " ['up' 'up' 'up' 'up' 'left' 'left' 'right' 'right']\n",
    " ['left' 'up' 'up' 'left' 'right' 'down' 'up' 'right']\n",
    " ['left' 'left' 'left' 'right' 'up' 'left' 'left' 'right']\n",
    " ['left' 'left' 'down' 'left' 'left' 'right' 'left' 'right']\n",
    " ['right' 'down' 'left' 'left' 'right' 'down' 'down' 'left']]"
   ]
  },
  {
   "cell_type": "code",
   "execution_count": 6,
   "metadata": {
    "collapsed": false
   },
   "outputs": [
    {
     "data": {
      "text/plain": [
       "array([  1.01901637e-02,   1.02213432e-02,   1.19433646e-02,\n",
       "         1.34909344e-02,   1.44534152e-02,   1.47731109e-02,\n",
       "         1.24294165e-02,   3.75600186e-03,   1.49854379e-02,\n",
       "         1.34466256e-02,   1.42413829e-02,   1.58022319e-02,\n",
       "         1.60648377e-02,   1.60634313e-02,   1.58612207e-02,\n",
       "         4.22175351e-03,   5.20878096e-02,   7.75828294e-02,\n",
       "         1.08653136e-01,   1.63254645e-01,   1.25867700e-01,\n",
       "         1.08136165e-01,   5.12570799e-02,   5.48877997e-03,\n",
       "         7.02123925e-02,   1.57112893e-01,   1.92633688e-01,\n",
       "         4.74473335e-01,   2.42192325e-01,   4.24142172e-01,\n",
       "         7.35710660e-02,   7.39330536e-03,   9.81108751e-02,\n",
       "         3.42325072e-01,   4.69781317e-01,   8.16960091e-01,\n",
       "         2.89960130e-01,   2.04781652e-01,   1.01830401e-01,\n",
       "         1.06207116e-02,   1.45866153e-01,   1.26815040e+00,\n",
       "         1.62800163e+00,   1.36752137e+00,   4.78343020e-01,\n",
       "         4.05761818e-01,   3.19744205e-01,   1.76178857e-02,\n",
       "         1.86452371e-01,   2.46791708e+00,   5.10073961e+00,\n",
       "         3.54735722e+00,   2.73261375e+00,   1.08307159e+00,\n",
       "         7.89858220e-01,   3.74108686e-02,   1.98690629e-01,\n",
       "         1.68435237e+00,   2.88309067e+00,   9.12825194e+00,\n",
       "         9.95520159e+00,   1.70867151e+00,   3.62647325e+00,\n",
       "         1.16066506e-01])"
      ]
     },
     "execution_count": 6,
     "metadata": {},
     "output_type": "execute_result"
    },
    {
     "data": {
      "image/png": "[encoded data removed]",
      "text/plain": [
       "<matplotlib.figure.Figure at 0x7f3c50c69f90>"
      ]
     },
     "metadata": {},
     "output_type": "display_data"
    }
   ],
   "source": [
    "import matplotlib.pyplot as plt\n",
    "%matplotlib inline\n",
    "\n",
    "# Number of visits per episode:\n",
    "plt.plot(visits/num_episodes)\n",
    "num_episodes/visits"
   ]
  },
  {
   "cell_type": "markdown",
   "metadata": {},
   "source": [
    "### Test Run"
   ]
  },
  {
   "cell_type": "code",
   "execution_count": null,
   "metadata": {
    "collapsed": false
   },
   "outputs": [],
   "source": [
    "def moving_average(a, n=100) :\n",
    "    ret = np.cumsum(a, dtype=float)\n",
    "    ret[n:] = ret[n:] - ret[:-n]\n",
    "    return ret[n - 1:] / n\n",
    "\n",
    "env.monitor.start('recordings', force=True)\n",
    "num_episodes = 20000\n",
    "R = []\n",
    "\n",
    "model.r_prob = 0 # ensure that only the optimal solution is used\n",
    "\n",
    "for n in xrange(num_episodes):\n",
    "    newstate = env.reset()\n",
    "    done = False\n",
    "\n",
    "    while not done:\n",
    "        # Current state\n",
    "        oldstate = newstate\n",
    "        \n",
    "        # Perform epsilon-greedy action:\n",
    "        action = model.epsilon_greedy_action(oldstate)\n",
    "\n",
    "        # Take action and observe state and reward\n",
    "        newstate, reward, done, info = env.step(action)\n",
    "        \n",
    "    R.append(reward)\n",
    "    \n",
    "    if n % 1000 == 101:\n",
    "        MA = np.max(moving_average(R))\n",
    "        print 'step: ' + str(n) + '\\t MRA: ' + str(MA)\n",
    "        if MA > 0.99:\n",
    "            break\n",
    "env.monitor.close()"
   ]
  },
  {
   "cell_type": "code",
   "execution_count": null,
   "metadata": {
    "collapsed": false
   },
   "outputs": [],
   "source": [
    "print len(R)\n",
    "print np.min([n,100])\n",
    "print moving_average(R, n = np.min([n,100]))\n"
   ]
  },
  {
   "cell_type": "code",
   "execution_count": 5,
   "metadata": {
    "collapsed": false
   },
   "outputs": [
    {
     "data": {
      "text/plain": [
       "0.82999999999999996"
      ]
     },
     "execution_count": 5,
     "metadata": {},
     "output_type": "execute_result"
    }
   ],
   "source": [
    "def moving_average(a, n=100) :\n",
    "    ret = np.cumsum(a, dtype=float)\n",
    "    ret[n:] = ret[n:] - ret[:-n]\n",
    "    return ret[n - 1:] / n\n",
    "\n",
    "MA = moving_average(R)\n",
    "\n",
    "np.max(MA)"
   ]
  },
  {
   "cell_type": "code",
   "execution_count": null,
   "metadata": {
    "collapsed": false
   },
   "outputs": [],
   "source": [
    "gym.upload('/notebooks/hjem/RL/recordings', api_key='sk_znZbtlUTlu1nJNqFLRIyA')"
   ]
  }
 ],
 "metadata": {
  "kernelspec": {
   "display_name": "Python 2",
   "language": "python",
   "name": "python2"
  },
  "language_info": {
   "codemirror_mode": {
    "name": "ipython",
    "version": 2
   },
   "file_extension": ".py",
   "mimetype": "text/x-python",
   "name": "python",
   "nbconvert_exporter": "python",
   "pygments_lexer": "ipython2",
   "version": "2.7.6"
  }
 },
 "nbformat": 4,
 "nbformat_minor": 0
}
