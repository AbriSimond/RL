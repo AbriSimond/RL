{
 "cells": [
  {
   "cell_type": "code",
   "execution_count": 1,
   "metadata": {
    "collapsed": false
   },
   "outputs": [
    {
     "name": "stderr",
     "output_type": "stream",
     "text": [
      "[2016-07-07 10:52:13,148] Making new env: FrozenLake8x8-v0\n"
     ]
    }
   ],
   "source": [
    "import gym\n",
    "import numpy as np\n",
    "import tensorflow as tf\n",
    "env =  gym.make('FrozenLake8x8-v0')# initialize environment\n",
    "#env =  gym.make('FrozenLake-v0')# initialize environment\n"
   ]
  },
  {
   "cell_type": "code",
   "execution_count": 2,
   "metadata": {
    "collapsed": false
   },
   "outputs": [],
   "source": [
    "class tf_RL_model:\n",
    "    def __init__(self):\n",
    "        self.action_table = {\n",
    "            'L' : 0,\n",
    "            'D' : 1,\n",
    "            'R' : 2,\n",
    "            'U' : 3\n",
    "        }\n",
    "        self.inv_action_table = {v: k for k, v in self.action_table.items()}\n",
    "        \n",
    "        # Learning paramters\n",
    "        self.learning_rate = 0.1\n",
    "        self.r_prob = 0.5\n",
    "        self.r_prob_decay = 0.98\n",
    "\n",
    "    def epsilon_greedy_action(self,state, eprate):\n",
    "        if np.random.rand() < self.r_prob:\n",
    "            action = env.action_space.sample()\n",
    "        else:\n",
    "            action = sess.run(optimal_action, feed_dict={batch_state: [state],\n",
    "                                                        batch_eprate: eprate})[0]\n",
    "            #action = np.argmax(SV,1)[0]\n",
    "        return action\n",
    "    \n",
    "    def update_parameters(self,oldstate, newstate, action, reward, done, eprate):\n",
    "        # Get the target values\n",
    "        \n",
    "        Qtarget = sess.run(maxQ, \n",
    "                     feed_dict = {\n",
    "                    batch_state : newstate,\n",
    "                    batch_eprate: eprate\n",
    "                })#.reshape((batch_size,1))\n",
    "        \n",
    "        target = reward + 0.995*Qtarget*(1-done)\n",
    "        \n",
    "        #print 'Target:'\n",
    "        #print target\n",
    "    \n",
    "    \n",
    "        # Update parameters towards the target value\n",
    "        sess.run(optimizer, \n",
    "                 feed_dict = {\n",
    "                batch_state : oldstate,\n",
    "                batch_trueQ : target,\n",
    "                batch_eprate : eprate,\n",
    "                batch_action : action\n",
    "            })\n",
    "        return target\n",
    "    \n",
    "    def get_optimal_policy(self):\n",
    "        optimal = sess.run(optimal_action, feed_dict = {batch_state : range(env.observation_space.n),\n",
    "                                                        batch_eprate : np.repeat(100,env.observation_space.n).reshape((100, 1))\n",
    "            })\n",
    "        optimal_name = [ self.inv_action_table[v] for v in optimal]\n",
    "\n",
    "        return np.reshape(optimal_name,(np.sqrt(env.observation_space.n), np.sqrt(env.observation_space.n)))\n",
    "    \n",
    "    def save_trained_policy(self):\n",
    "        optimal = sess.run(optimal_action, feed_dict = {batch_state : range(env.observation_space.n)\n",
    "            })\n",
    "        trained_policy = {}\n",
    "        for s in range(env.observation_space.n):\n",
    "            trained_policy[s] = sess.run(optimal_action, feed_dict = {batch_state : [s]})[0]\n",
    "        self.trained_policy = trained_policy\n",
    "        \n",
    "    def epsilon_decay(self):\n",
    "        self.r_prob *= self.r_prob_decay\n",
    "        self.r_prob = np.maximum(0.1,self.r_prob) # Never let random probability be less than 5%"
   ]
  },
  {
   "cell_type": "code",
   "execution_count": 3,
   "metadata": {
    "collapsed": false
   },
   "outputs": [],
   "source": [
    "### TF-MODEL SPECIFICATION\n",
    "model = tf_RL_model()\n",
    "\n",
    "graph = tf.Graph()\n",
    "with graph.as_default():\n",
    "    batch_state = tf.placeholder(tf.int64, shape = ([None,]), name = 'ph_state')\n",
    "    batch_eprate = tf.placeholder(tf.float32, shape = ([None,]), name = 'ph_eprate')\n",
    "    batch_action = tf.placeholder(tf.int64, shape = ([None,]), name = 'ph_action')\n",
    "    batch_reward = tf.placeholder(tf.float32, shape = ([None,]), name = 'ph_reward')\n",
    "    batch_trueQ = tf.placeholder(tf.float32, shape = ([None,]), name = 'ph_trueQ')\n",
    "    \n",
    "    \n",
    "    #W = tf.Variable(tf.constant(value = np.linspace(start = 1, stop = env.observation_space.n*env.action_space.n, \n",
    "    #                                                num = env.observation_space.n*env.action_space.n, dtype='float32'), \n",
    "    #                shape = [env.observation_space.n, env.action_space.n]\n",
    "    #               ))\n",
    "    \n",
    "    \n",
    "    # One hot vectors of state and action indicies:\n",
    "                        \n",
    "    state = tf.one_hot(indices = batch_state,\n",
    "                           depth = env.observation_space.n,\n",
    "                       on_value = 1.0, off_value = 0.0)\n",
    "    \n",
    "    eprateTF = tf.reshape(batch_eprate,[-1,1])\n",
    "    \n",
    "    superstate = tf.concat(1,[eprateTF, state])\n",
    "    hsize = 80\n",
    "    W1 = tf.get_variable(shape = [env.observation_space.n + 1, hsize],\n",
    "        initializer = tf.random_normal_initializer(mean=0, stddev= 0.1) , name = 'W1')  \n",
    "    \n",
    "\n",
    "    hidden = tf.nn.relu(tf.matmul(superstate,W1))\n",
    "    \n",
    "    W2 = tf.get_variable(shape = [hsize, env.action_space.n],\n",
    "        initializer = tf.random_normal_initializer(mean=0, stddev= 0.1) , name = 'W2')\n",
    "    \n",
    "    Qval = tf.matmul(hidden,W2)\n",
    "\n",
    "    \n",
    "    action = tf.one_hot(indices = batch_action,\n",
    "                           depth = env.action_space.n,\n",
    "                          on_value = 1.0, off_value = 0.0)\n",
    "    \n",
    "    optimal_action = tf.argmax(Qval,1)\n",
    "    maxQ = tf.reduce_max(Qval,1)\n",
    "    \n",
    "    mQ = tf.mul(Qval, action)\n",
    "    Q_a = tf.reduce_sum(mQ,1) # only get non-zero chosen actions\n",
    "    loss = tf.nn.l2_loss( batch_trueQ - Q_a)\n",
    "    optimizer = tf.train.GradientDescentOptimizer(model.learning_rate).minimize(loss)\n",
    "    saver = tf.train.Saver()"
   ]
  },
  {
   "cell_type": "code",
   "execution_count": null,
   "metadata": {
    "collapsed": true
   },
   "outputs": [],
   "source": [
    "sess = tf.InteractiveSession(graph=graph)\n",
    "sess.run(tf.initialize_all_variables())\n",
    "#saver.restore(sess, 'tf-frozen8x8.ckpt')\n",
    "\n",
    "\n",
    "train_dict1 = {batch_state : [2.0,3], batch_eprate: [0.1, 0.1], batch_action : [1,2]}\n",
    "train_dict2 = {batch_state : [3.0,3], batch_eprate: [0.1, 0.1], batch_action : [1,2]}\n",
    "\n",
    "\n",
    "#model.update_parameters()\n",
    "\n",
    "#sess.run(superstate, feed_dict = train_dict)#.shape\n",
    "v1 =  sess.run(Q_a, feed_dict= train_dict1)#.shape\n",
    "print v1\n",
    "print '---------------------------------------------------------'\n",
    "v2 = sess.run(Q_a, feed_dict= train_dict2) #.shape\n",
    "print v2\n",
    "print '--- IS EQUAL ----'\n",
    "v1 == v2"
   ]
  },
  {
   "cell_type": "code",
   "execution_count": 4,
   "metadata": {
    "collapsed": false,
    "scrolled": true
   },
   "outputs": [
    {
     "name": "stdout",
     "output_type": "stream",
     "text": [
      "step: 0 \t r_prob:0.5\t run_avg: 0.0\n",
      "step: 50000 \t r_prob:0.34\t run_avg: 0.051\n",
      "step: 100000 \t r_prob:0.22\t run_avg: 0.14\n",
      "step: 150000 \t r_prob:0.15\t run_avg: 0.267\n",
      "step: 200000 \t r_prob:0.1\t run_avg: 0.402\n",
      "step: 250000 \t r_prob:0.1\t run_avg: 0.469\n",
      "step: 300000 \t r_prob:0.1\t run_avg: 0.475\n",
      "step: 350000 \t r_prob:0.1\t run_avg: 0.47\n",
      "step: 400000 \t r_prob:0.1\t run_avg: 0.469\n",
      "step: 450000 \t r_prob:0.1\t run_avg: 0.476\n",
      "step: 500000 \t r_prob:0.1\t run_avg: 0.473\n"
     ]
    }
   ],
   "source": [
    "sess = tf.Session(graph=graph)\n",
    "\n",
    "\n",
    "mem_size = 500\n",
    "replay_memory = np.zeros([mem_size,6])\n",
    "batch_size = 10\n",
    "\n",
    "with sess as session:\n",
    "    sess.run(tf.initialize_all_variables())\n",
    "\n",
    "    # Probability of random action\n",
    "    #\n",
    "    model.r_prob_decay = 0.999992\n",
    "    model.learning_rate = 0.003\n",
    "    num_episodes = 500000 # Total number of games\n",
    "\n",
    "    # Logging variables\n",
    "    visits = np.zeros([env.observation_space.n])\n",
    "\n",
    "    run_reward = [] # running average initialize\n",
    "    #old_optimal = model.get_optimal_policy() # Initial optimal strategy\n",
    "    \n",
    "    newweight = sess.run(tf.trainable_variables())[0]\n",
    "    for n in xrange(num_episodes + 1):\n",
    "        newstate = env.reset()\n",
    "        done = False\n",
    "        \n",
    "        ### WALK AROUND ###\n",
    "        maxsteps = 200\n",
    "        for ep in xrange(maxsteps):\n",
    "            \n",
    "            eprate = ep/maxsteps\n",
    "            oldstate = newstate\n",
    "            action = model.epsilon_greedy_action(oldstate, [eprate]) # Perform epsilon-greedy action:\n",
    "            newstate, reward, done, info = env.step(action) # Take action and observe state and reward\n",
    "            visits[newstate] += 1\n",
    "\n",
    "            # Reward modifications:\n",
    "            # if (done is True and reward == 0):\n",
    "            #    reward = -0.2\n",
    "            # reward -= 0.01 # cost of life\n",
    "            \n",
    "            # Save transition: \n",
    "            replay_memory[np.random.choice(mem_size),:] = oldstate, newstate, action, reward, done, eprate\n",
    "            \n",
    "            # Debugging:\n",
    "            if False and reward == 1.0:\n",
    "                oldweight = newweight\n",
    "                newweight = sess.run(tf.trainable_variables())[0]\n",
    "                diff = newweight - oldweight\n",
    "                print 'old: ' + str(oldstate) + '\\t new: ' + str(newstate) +\\\n",
    "                '\\t a: ' + str(action) + '\\t r: ' + str(reward) +\\\n",
    "                '\\t targetQ: ' + str(np.round(tQ[0],3)) + '\\t Qval: ' + str(np.round(oldweight[oldstate,action],3)) + '\\t Qdiff: ' + str(np.round(diff[oldstate,action],3))                         \n",
    "            if done:\n",
    "                break\n",
    "            \n",
    "        model.epsilon_decay()\n",
    "        run_reward.append(reward)\n",
    "        \n",
    "        ### UPDATE PARAMETERS ###\n",
    "        if n > 1:\n",
    "            train_array = replay_memory[np.random.choice(mem_size, size = batch_size),:]\n",
    "            tQ = model.update_parameters(            \n",
    "                oldstate = train_array[:,0],#.reshape((batch_size,1)), \n",
    "                                         newstate = train_array[:,1],#.reshape((batch_size,1)), \n",
    "                                         action   = train_array[:,2],#.reshape((batch_size,1)), \n",
    "                                         reward   = train_array[:,3],#.reshape((batch_size,1)),\n",
    "                                         done     = train_array[:,4],#.reshape((batch_size,1)), \n",
    "                                         eprate   = train_array[:,5] #.reshape((batch_size,1))\n",
    "                             ) \n",
    "\n",
    "            # print 'episode ' + str(n) + 'reached maximum steps. skipping...'\n",
    "\n",
    "\n",
    "\n",
    "        if n % int(num_episodes/10) == 0:\n",
    "            run_avg = np.mean(run_reward)\n",
    "            run_reward = []\n",
    "            print 'step: ' + str(n) + ' \\t r_prob:' + str(np.round(model.r_prob,2)) + '\\t run_avg: ' + str(np.round(run_avg,3))\n",
    "            #print model.get_optimal_policy()\n",
    "            #print sess.run(tf.trainable_variables())#[0]\n",
    "    # model.save_trained_policy()\n",
    "    save_path = saver.save(sess, 'tf-frozen8x8.ckpt')"
   ]
  },
  {
   "cell_type": "code",
   "execution_count": 5,
   "metadata": {
    "collapsed": false
   },
   "outputs": [
    {
     "name": "stdout",
     "output_type": "stream",
     "text": [
      "0.47304\n"
     ]
    },
    {
     "data": {
      "text/plain": [
       "[<matplotlib.lines.Line2D at 0x7f0b37773410>]"
      ]
     },
     "execution_count": 5,
     "metadata": {},
     "output_type": "execute_result"
    },
    {
     "data": {
      "image/png": "[encoded data removed]",
      "text/plain": [
       "<matplotlib.figure.Figure at 0x7f0b3780fcd0>"
      ]
     },
     "metadata": {},
     "output_type": "display_data"
    }
   ],
   "source": [
    "print run_avg\n",
    "import matplotlib.pyplot as plt\n",
    "%matplotlib inline\n",
    "\n",
    "# Number of visits per episode:\n",
    "plt.plot(visits/num_episodes)\n",
    "#num_episodes/visits"
   ]
  },
  {
   "cell_type": "markdown",
   "metadata": {},
   "source": [
    "### Test Run"
   ]
  },
  {
   "cell_type": "code",
   "execution_count": null,
   "metadata": {
    "collapsed": false,
    "scrolled": true
   },
   "outputs": [
    {
     "name": "stderr",
     "output_type": "stream",
     "text": [
      "Exception AssertionError: AssertionError() in <bound method InteractiveSession.__del__ of <tensorflow.python.client.session.InteractiveSession object at 0x7f0b376ee650>> ignored\n",
      "[2016-07-08 06:43:54,964] Clearing 22 monitor files from previous run (because force=True was provided)\n",
      "[2016-07-08 06:43:54,968] Starting new video recorder writing to /notebooks/hjem/RL/recordings/openaigym.video.1.23456.video000000.json\n",
      "[2016-07-08 06:43:55,158] Ending episode 1 because it reached the timestep limit of 200.\n",
      "[2016-07-08 06:43:55,161] Starting new video recorder writing to /notebooks/hjem/RL/recordings/openaigym.video.1.23456.video000001.json\n",
      "[2016-07-08 06:43:55,375] Ending episode 3 because it reached the timestep limit of 200.\n",
      "[2016-07-08 06:43:55,538] Ending episode 4 because it reached the timestep limit of 200.\n",
      "[2016-07-08 06:43:55,699] Ending episode 5 because it reached the timestep limit of 200.\n",
      "[2016-07-08 06:43:55,864] Ending episode 6 because it reached the timestep limit of 200.\n",
      "[2016-07-08 06:43:56,033] Ending episode 7 because it reached the timestep limit of 200.\n",
      "[2016-07-08 06:43:56,208] Ending episode 8 because it reached the timestep limit of 200.\n",
      "[2016-07-08 06:43:56,209] Starting new video recorder writing to /notebooks/hjem/RL/recordings/openaigym.video.1.23456.video000008.json\n",
      "[2016-07-08 06:43:56,416] Ending episode 9 because it reached the timestep limit of 200.\n",
      "[2016-07-08 06:43:56,630] Ending episode 11 because it reached the timestep limit of 200.\n",
      "[2016-07-08 06:43:56,798] Ending episode 12 because it reached the timestep limit of 200.\n",
      "[2016-07-08 06:43:56,978] Ending episode 13 because it reached the timestep limit of 200.\n",
      "[2016-07-08 06:43:57,164] Ending episode 14 because it reached the timestep limit of 200.\n",
      "[2016-07-08 06:43:57,376] Ending episode 16 because it reached the timestep limit of 200.\n",
      "[2016-07-08 06:43:57,550] Ending episode 17 because it reached the timestep limit of 200.\n",
      "[2016-07-08 06:43:57,731] Ending episode 18 because it reached the timestep limit of 200.\n",
      "[2016-07-08 06:43:57,896] Ending episode 19 because it reached the timestep limit of 200.\n",
      "[2016-07-08 06:43:58,075] Ending episode 20 because it reached the timestep limit of 200.\n",
      "[2016-07-08 06:43:58,248] Ending episode 21 because it reached the timestep limit of 200.\n",
      "[2016-07-08 06:43:58,502] Ending episode 23 because it reached the timestep limit of 200.\n",
      "[2016-07-08 06:43:58,676] Ending episode 24 because it reached the timestep limit of 200.\n",
      "[2016-07-08 06:43:58,867] Ending episode 25 because it reached the timestep limit of 200.\n",
      "[2016-07-08 06:43:59,045] Ending episode 26 because it reached the timestep limit of 200.\n",
      "[2016-07-08 06:43:59,098] Starting new video recorder writing to /notebooks/hjem/RL/recordings/openaigym.video.1.23456.video000027.json\n",
      "[2016-07-08 06:43:59,323] Ending episode 30 because it reached the timestep limit of 200.\n",
      "[2016-07-08 06:43:59,477] Ending episode 31 because it reached the timestep limit of 200.\n",
      "[2016-07-08 06:43:59,651] Ending episode 32 because it reached the timestep limit of 200.\n",
      "[2016-07-08 06:43:59,863] Ending episode 34 because it reached the timestep limit of 200.\n",
      "[2016-07-08 06:44:00,039] Ending episode 35 because it reached the timestep limit of 200.\n",
      "[2016-07-08 06:44:00,226] Ending episode 36 because it reached the timestep limit of 200.\n",
      "[2016-07-08 06:44:00,412] Ending episode 37 because it reached the timestep limit of 200.\n",
      "[2016-07-08 06:44:00,669] Ending episode 39 because it reached the timestep limit of 200.\n",
      "[2016-07-08 06:44:00,857] Ending episode 40 because it reached the timestep limit of 200.\n",
      "[2016-07-08 06:44:01,051] Ending episode 41 because it reached the timestep limit of 200.\n",
      "[2016-07-08 06:44:01,243] Ending episode 42 because it reached the timestep limit of 200.\n",
      "[2016-07-08 06:44:01,436] Ending episode 43 because it reached the timestep limit of 200.\n",
      "[2016-07-08 06:44:01,621] Ending episode 44 because it reached the timestep limit of 200.\n",
      "[2016-07-08 06:44:01,813] Ending episode 45 because it reached the timestep limit of 200.\n",
      "[2016-07-08 06:44:02,000] Ending episode 46 because it reached the timestep limit of 200.\n",
      "[2016-07-08 06:44:02,181] Ending episode 47 because it reached the timestep limit of 200.\n",
      "[2016-07-08 06:44:02,358] Ending episode 48 because it reached the timestep limit of 200.\n",
      "[2016-07-08 06:44:02,542] Ending episode 49 because it reached the timestep limit of 200.\n",
      "[2016-07-08 06:44:02,751] Ending episode 51 because it reached the timestep limit of 200.\n",
      "[2016-07-08 06:44:02,900] Ending episode 52 because it reached the timestep limit of 200.\n",
      "[2016-07-08 06:44:03,071] Ending episode 53 because it reached the timestep limit of 200.\n",
      "[2016-07-08 06:44:03,268] Ending episode 55 because it reached the timestep limit of 200.\n",
      "[2016-07-08 06:44:03,443] Ending episode 56 because it reached the timestep limit of 200.\n",
      "[2016-07-08 06:44:03,610] Ending episode 57 because it reached the timestep limit of 200.\n",
      "[2016-07-08 06:44:03,779] Ending episode 58 because it reached the timestep limit of 200.\n",
      "[2016-07-08 06:44:03,945] Ending episode 59 because it reached the timestep limit of 200.\n",
      "[2016-07-08 06:44:04,127] Ending episode 60 because it reached the timestep limit of 200.\n",
      "[2016-07-08 06:44:04,315] Ending episode 61 because it reached the timestep limit of 200.\n",
      "[2016-07-08 06:44:04,555] Ending episode 63 because it reached the timestep limit of 200.\n",
      "[2016-07-08 06:44:04,735] Ending episode 64 because it reached the timestep limit of 200.\n",
      "[2016-07-08 06:44:04,736] Starting new video recorder writing to /notebooks/hjem/RL/recordings/openaigym.video.1.23456.video000064.json\n",
      "[2016-07-08 06:44:04,960] Ending episode 65 because it reached the timestep limit of 200.\n",
      "[2016-07-08 06:44:05,136] Ending episode 66 because it reached the timestep limit of 200.\n",
      "[2016-07-08 06:44:05,295] Ending episode 67 because it reached the timestep limit of 200.\n",
      "[2016-07-08 06:44:05,466] Ending episode 68 because it reached the timestep limit of 200.\n",
      "[2016-07-08 06:44:05,651] Ending episode 69 because it reached the timestep limit of 200.\n",
      "[2016-07-08 06:44:05,837] Ending episode 70 because it reached the timestep limit of 200.\n",
      "[2016-07-08 06:44:06,024] Ending episode 71 because it reached the timestep limit of 200.\n",
      "[2016-07-08 06:44:06,202] Ending episode 72 because it reached the timestep limit of 200.\n",
      "[2016-07-08 06:44:06,384] Ending episode 73 because it reached the timestep limit of 200.\n",
      "[2016-07-08 06:44:06,562] Ending episode 74 because it reached the timestep limit of 200.\n",
      "[2016-07-08 06:44:06,761] Ending episode 75 because it reached the timestep limit of 200.\n",
      "[2016-07-08 06:44:07,032] Ending episode 77 because it reached the timestep limit of 200.\n",
      "[2016-07-08 06:44:07,228] Ending episode 78 because it reached the timestep limit of 200.\n",
      "[2016-07-08 06:44:07,406] Ending episode 79 because it reached the timestep limit of 200.\n",
      "[2016-07-08 06:44:07,580] Ending episode 80 because it reached the timestep limit of 200.\n",
      "[2016-07-08 06:44:07,755] Ending episode 81 because it reached the timestep limit of 200.\n",
      "[2016-07-08 06:44:07,935] Ending episode 82 because it reached the timestep limit of 200.\n",
      "[2016-07-08 06:44:08,157] Ending episode 84 because it reached the timestep limit of 200.\n",
      "[2016-07-08 06:44:08,342] Ending episode 85 because it reached the timestep limit of 200.\n",
      "[2016-07-08 06:44:08,524] Ending episode 86 because it reached the timestep limit of 200.\n"
     ]
    }
   ],
   "source": [
    "sess = tf.InteractiveSession(graph=graph)\n",
    "saver.restore(sess, 'tf-frozen8x8.ckpt')\n",
    "\n",
    "\n",
    "env.monitor.start('recordings', force=True)\n",
    "num_episodes = 10000\n",
    "R = []\n",
    "\n",
    "\n",
    "def moving_average(a, n = 100) :\n",
    "    ret = np.cumsum(a, dtype=float)\n",
    "    ret[n:] = ret[n:] - ret[:-n]\n",
    "    return ret[n - 1:] / n\n",
    "\n",
    "\n",
    "model.r_prob = 0 # ensure that only the optimal solution is used\n",
    "\n",
    "for n in xrange(num_episodes):\n",
    "    newstate = env.reset()\n",
    "    done = False\n",
    "    \n",
    "    for ep in xrange(200):\n",
    "        # Current state\n",
    "        oldstate = newstate\n",
    "        \n",
    "        # Perform epsilon-greedy action:\n",
    "        eprate = ep/200.0\n",
    "        action = model.epsilon_greedy_action(oldstate, [eprate])\n",
    "        #action = passive_policy[oldstate]\n",
    "        # Take action and observe state and reward\n",
    "        newstate, reward, done, info = env.step(action)\n",
    "        \n",
    "        if done:\n",
    "            break\n",
    "    R.append(reward)\n",
    "    if False and reward != 1.0:\n",
    "        print 'Episode: ' + str(n) +'\\t steps: ' + str(ep) + '\\t state: ' + str(newstate), '\\t reward: ' + str(reward)\n",
    "    #if n % 1000 == 101:\n",
    "    #    MA = np.max(moving_average(R))\n",
    "    #    print 'step: ' + str(n) + '\\t MRA: ' + str(MA)\n",
    "    #    if MA > 0.99:\n",
    "    #        break\n",
    "env.monitor.close()"
   ]
  },
  {
   "cell_type": "code",
   "execution_count": 7,
   "metadata": {
    "collapsed": false
   },
   "outputs": [
    {
     "name": "stdout",
     "output_type": "stream",
     "text": [
      "0.19\n"
     ]
    },
    {
     "data": {
      "text/plain": [
       "[<matplotlib.lines.Line2D at 0x7f0b37640550>]"
      ]
     },
     "execution_count": 7,
     "metadata": {},
     "output_type": "execute_result"
    },
    {
     "data": {
      "image/png": "[encoded data removed]",
      "text/plain": [
       "<matplotlib.figure.Figure at 0x7f0b377e0dd0>"
      ]
     },
     "metadata": {},
     "output_type": "display_data"
    }
   ],
   "source": [
    "MV = moving_average(R, n = 100)\n",
    "print np.max(MV)\n",
    "%matplotlib inline\n",
    "import matplotlib.pyplot as plt\n",
    "plt.plot(MV)"
   ]
  },
  {
   "cell_type": "code",
   "execution_count": null,
   "metadata": {
    "collapsed": false
   },
   "outputs": [],
   "source": [
    "gym.upload('/notebooks/hjem/RL/recordings', api_key='sk_znZbtlUTlu1nJNqFLRIyA')"
   ]
  },
  {
   "cell_type": "code",
   "execution_count": null,
   "metadata": {
    "collapsed": false
   },
   "outputs": [],
   "source": [
    "env.monitor.close()\n"
   ]
  },
  {
   "cell_type": "code",
   "execution_count": null,
   "metadata": {
    "collapsed": true
   },
   "outputs": [],
   "source": []
  }
 ],
 "metadata": {
  "kernelspec": {
   "display_name": "Python 2",
   "language": "python",
   "name": "python2"
  },
  "language_info": {
   "codemirror_mode": {
    "name": "ipython",
    "version": 2
   },
   "file_extension": ".py",
   "mimetype": "text/x-python",
   "name": "python",
   "nbconvert_exporter": "python",
   "pygments_lexer": "ipython2",
   "version": "2.7.6"
  }
 },
 "nbformat": 4,
 "nbformat_minor": 0
}
